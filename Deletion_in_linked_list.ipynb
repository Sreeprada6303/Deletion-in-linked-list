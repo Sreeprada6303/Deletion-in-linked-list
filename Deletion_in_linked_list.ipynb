{
  "nbformat": 4,
  "nbformat_minor": 0,
  "metadata": {
    "colab": {
      "provenance": []
    },
    "kernelspec": {
      "name": "python3",
      "display_name": "Python 3"
    },
    "language_info": {
      "name": "python"
    }
  },
  "cells": [
    {
      "cell_type": "code",
      "execution_count": 1,
      "metadata": {
        "colab": {
          "base_uri": "https://localhost:8080/"
        },
        "id": "eTNNbWmSWWR8",
        "outputId": "9a3a0f63-0328-4af7-af3d-28e74dd5b9a2"
      },
      "outputs": [
        {
          "output_type": "stream",
          "name": "stdout",
          "text": [
            "Created Linked List: \n",
            " 2\n",
            " 3\n",
            " 1\n",
            " 7\n",
            "\n",
            "Linked List after Deletion of 1:\n",
            " 2\n",
            " 3\n",
            " 7\n"
          ]
        }
      ],
      "source": [
        "# A complete working Python3 program to\n",
        "# demonstrate deletion in singly\n",
        "# linked list with class\n",
        "\n",
        "# Node class\n",
        "\n",
        "\n",
        "class Node:\n",
        "\n",
        "\t# Constructor to initialize the node object\n",
        "\tdef __init__(self, data):\n",
        "\t\tself.data = data\n",
        "\t\tself.next = None\n",
        "\n",
        "\n",
        "class LinkedList:\n",
        "\n",
        "\t# Function to initialize head\n",
        "\tdef __init__(self):\n",
        "\t\tself.head = None\n",
        "\n",
        "\t# Function to insert a new node at the beginning\n",
        "\tdef push(self, new_data):\n",
        "\t\tnew_node = Node(new_data)\n",
        "\t\tnew_node.next = self.head\n",
        "\t\tself.head = new_node\n",
        "\n",
        "\t# Given a reference to the head of a list and a key,\n",
        "\t# delete the first occurrence of key in linked list\n",
        "\tdef deleteNode(self, key):\n",
        "\n",
        "\t\t# Store head node\n",
        "\t\ttemp = self.head\n",
        "\n",
        "\t\t# If head node itself holds the key to be deleted\n",
        "\t\tif (temp is not None):\n",
        "\t\t\tif (temp.data == key):\n",
        "\t\t\t\tself.head = temp.next\n",
        "\t\t\t\ttemp = None\n",
        "\t\t\t\treturn\n",
        "\n",
        "\t\t# Search for the key to be deleted, keep track of the\n",
        "\t\t# previous node as we need to change 'prev.next'\n",
        "\t\twhile(temp is not None):\n",
        "\t\t\tif temp.data == key:\n",
        "\t\t\t\tbreak\n",
        "\t\t\tprev = temp\n",
        "\t\t\ttemp = temp.next\n",
        "\n",
        "\t\t# if key was not present in linked list\n",
        "\t\tif(temp == None):\n",
        "\t\t\treturn\n",
        "\n",
        "\t\t# Unlink the node from linked list\n",
        "\t\tprev.next = temp.next\n",
        "\n",
        "\t\ttemp = None\n",
        "\n",
        "\t# Utility function to print the linked LinkedList\n",
        "\n",
        "\tdef printList(self):\n",
        "\t\ttemp = self.head\n",
        "\t\twhile(temp):\n",
        "\t\t\tprint(\" %d\" % (temp.data)),\n",
        "\t\t\ttemp = temp.next\n",
        "\n",
        "\n",
        "# Driver program\n",
        "llist = LinkedList()\n",
        "llist.push(7)\n",
        "llist.push(1)\n",
        "llist.push(3)\n",
        "llist.push(2)\n",
        "\n",
        "print(\"Created Linked List: \")\n",
        "llist.printList()\n",
        "llist.deleteNode(1)\n",
        "print(\"\\nLinked List after Deletion of 1:\")\n",
        "llist.printList()\n",
        "\n"
      ]
    }
  ]
}